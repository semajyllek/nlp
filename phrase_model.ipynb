{
 "cells": [
  {
   "cell_type": "code",
   "execution_count": 1,
   "metadata": {},
   "outputs": [],
   "source": [
    "from phrase_mt import PhraseModel\n",
    "from collections import defaultdict\n",
    "import nltk\n"
   ]
  },
  {
   "cell_type": "code",
   "execution_count": 3,
   "metadata": {},
   "outputs": [],
   "source": [
    "def read_pre_aligns(st_filename1, st_filename2, ts_filename1, ts_filename2):\n",
    "    st_t_file = open(st_filename1, 'r')\n",
    "    st_s_file = open(st_filename2, 'r')\n",
    "\n",
    "    st_all_aligns = []\n",
    "\n",
    "    I = 0\n",
    "    for sen_s, sen_t in zip(st_t_file.readlines(), st_s_file.readlines()):\n",
    "        if I < 250000:\n",
    "            sen_aligns = defaultdict(lambda: str)\n",
    "            for word_s, word_t in zip(sen_s.strip('\\n').split(), sen_t.strip('\\n').split()):\n",
    "                sen_aligns[word_s] = word_t\n",
    "            st_all_aligns.append(sen_aligns)\n",
    "        I += 1\n",
    "\n",
    "        \n",
    "    ts_t_file = open(ts_filename1, 'r')\n",
    "    ts_s_file = open(ts_filename2, 'r')\n",
    "\n",
    "    ts_all_aligns = []\n",
    "\n",
    "    I = 0\n",
    "    for sen_s, sen_t in zip(ts_t_file.readlines(), ts_s_file.readlines()):\n",
    "        if I < 250000:\n",
    "            sen_aligns = defaultdict(lambda: str)\n",
    "            for word_s, word_t in zip(sen_s.strip('\\n').split(), sen_t.strip('\\n').split()):\n",
    "                sen_aligns[word_s] = word_t\n",
    "            ts_all_aligns.append(sen_aligns)\n",
    "        I += 1\n",
    "\n",
    "    \n",
    "\n",
    "    return st_all_aligns, ts_all_aligns\n",
    "\n",
    "st_aligns, ts_aligns = read_pre_aligns(\"st_aligns_s.txt\", \"st_aligns_t.txt\", \"ts_aligns_s.txt\", \"ts_aligns_t.txt\")\n",
    "\n",
    "\n",
    "\n"
   ]
  },
  {
   "cell_type": "code",
   "execution_count": 56,
   "metadata": {},
   "outputs": [
    {
     "data": {
      "text/plain": [
       "defaultdict(<function __main__.read_pre_aligns.<locals>.<lambda>()>,\n",
       "            {'CIBLER': 'TARGET',\n",
       "             'PRESTATIONS': 'TO',\n",
       "             'DE': 'TO',\n",
       "             '.': 'TO',\n",
       "             'LES': 'IT',\n",
       "             'IL': 'IS',\n",
       "             'ESSAIE': 'IT'})"
      ]
     },
     "execution_count": 56,
     "metadata": {},
     "output_type": "execute_result"
    }
   ],
   "source": [
    "st_aligns[2324]"
   ]
  },
  {
   "cell_type": "code",
   "execution_count": 57,
   "metadata": {},
   "outputs": [
    {
     "data": {
      "text/plain": [
       "defaultdict(<function __main__.read_pre_aligns.<locals>.<lambda>()>,\n",
       "            {'TO': 'DE',\n",
       "             'IS': 'DE',\n",
       "             'TRYING': 'DE',\n",
       "             'IT': 'IL',\n",
       "             'TARGET': 'CIBLER'})"
      ]
     },
     "execution_count": 57,
     "metadata": {},
     "output_type": "execute_result"
    }
   ],
   "source": [
    "ts_aligns[2324]"
   ]
  },
  {
   "cell_type": "code",
   "execution_count": 6,
   "metadata": {},
   "outputs": [
    {
     "data": {
      "text/plain": [
       "207688"
      ]
     },
     "execution_count": 6,
     "metadata": {},
     "output_type": "execute_result"
    }
   ],
   "source": [
    "len(st_aligns)"
   ]
  },
  {
   "cell_type": "code",
   "execution_count": 7,
   "metadata": {},
   "outputs": [
    {
     "data": {
      "text/plain": [
       "defaultdict(<function __main__.read_pre_aligns.<locals>.<lambda>()>,\n",
       "            {'HANSARD': 'HANSARD',\n",
       "             'DEBATES': 'DÉBATS',\n",
       "             'SENATE': 'SÉNAT',\n",
       "             'OF': 'DU',\n",
       "             ')': ')',\n",
       "             '(': '(',\n",
       "             'THE': 'DU'})"
      ]
     },
     "execution_count": 7,
     "metadata": {},
     "output_type": "execute_result"
    }
   ],
   "source": [
    "ts_aligns[0]"
   ]
  },
  {
   "cell_type": "code",
   "execution_count": 8,
   "metadata": {},
   "outputs": [],
   "source": [
    "P_MT = PhraseModel(st_aligns, ts_aligns, 'hansards.36.ca.f.tok', 'hansards.36.ca.e.tok')"
   ]
  },
  {
   "cell_type": "code",
   "execution_count": 9,
   "metadata": {},
   "outputs": [
    {
     "data": {
      "text/plain": [
       "207688"
      ]
     },
     "execution_count": 9,
     "metadata": {},
     "output_type": "execute_result"
    }
   ],
   "source": [
    "len(P_MT.s_sens)"
   ]
  },
  {
   "cell_type": "code",
   "execution_count": 16,
   "metadata": {},
   "outputs": [
    {
     "name": "stdout",
     "output_type": "stream",
     "text": [
      "0\n",
      "10000\n",
      "20000\n",
      "30000\n",
      "40000\n",
      "50000\n",
      "60000\n",
      "70000\n",
      "80000\n",
      "90000\n",
      "100000\n",
      "110000\n",
      "120000\n",
      "130000\n",
      "140000\n",
      "150000\n",
      "160000\n",
      "170000\n",
      "180000\n",
      "190000\n",
      "200000\n"
     ]
    }
   ],
   "source": [
    "P_MT.grow_alignments()"
   ]
  },
  {
   "cell_type": "code",
   "execution_count": 19,
   "metadata": {},
   "outputs": [
    {
     "data": {
      "text/plain": [
       "defaultdict(<function phrase_mt.PhraseModel.get_align_overlaps.<locals>.<lambda>()>,\n",
       "            {'BY': ['PAR'],\n",
       "             'BESTOWS': ['CONFÈRE'],\n",
       "             'FOR': ['À'],\n",
       "             'VALUES': ['VALEURS'],\n",
       "             'OF': ['DU', 'COMMUNES'],\n",
       "             'LEGITIMACY': ['LÉGITIMITÉ'],\n",
       "             'CANADA': ['CANADA'],\n",
       "             'ALL': ['TOUS'],\n",
       "             'WITH': ['AVEC'],\n",
       "             ',': [',', 'TANT'],\n",
       "             '.': ['.'],\n",
       "             'GOVERNMENT': ['GOUVERNEMENT'],\n",
       "             'ELECTED': ['ÉLU'],\n",
       "             'THE': [\"L'\", 'LA', 'LE', 'AU'],\n",
       "             'THAT': ['QUE', 'CELA', 'LUI'],\n",
       "             'CANADIANS': ['LES', 'CANADIENS'],\n",
       "             'AND': ['LES'],\n",
       "             'ENDOWED': ['CANADIENS'],\n",
       "             'THIS': ['CELA'],\n",
       "             'WILL': [',', 'DÉFENDRA'],\n",
       "             'UP': ['À'],\n",
       "             'SHARED': ['LES'],\n",
       "             'HOME': ['ADHÈRENT'],\n",
       "             'STAND': ['À'],\n",
       "             'AT': ['AUXQUELLES']})"
      ]
     },
     "execution_count": 19,
     "metadata": {},
     "output_type": "execute_result"
    }
   ],
   "source": [
    "P_MT.sen_overlaps_ts[125]"
   ]
  },
  {
   "cell_type": "code",
   "execution_count": 20,
   "metadata": {},
   "outputs": [
    {
     "data": {
      "text/plain": [
       "defaultdict(<function phrase_mt.PhraseModel.get_align_overlaps.<locals>.<lambda>()>,\n",
       "            {'PAR': ['BY'],\n",
       "             'CONFÈRE': ['BESTOWS'],\n",
       "             'À': ['FOR', 'UP', 'STAND'],\n",
       "             'VALEURS': ['VALUES'],\n",
       "             'DU': ['OF'],\n",
       "             'LÉGITIMITÉ': ['LEGITIMACY'],\n",
       "             'CANADA': ['CANADA'],\n",
       "             'TOUS': ['ALL'],\n",
       "             'AVEC': ['WITH'],\n",
       "             ',': [',', 'WILL'],\n",
       "             '.': ['.'],\n",
       "             'GOUVERNEMENT': ['GOVERNMENT'],\n",
       "             'ÉLU': ['ELECTED'],\n",
       "             \"L'\": ['THE'],\n",
       "             'QUE': ['THAT'],\n",
       "             'LES': ['CANADIANS', 'AND', 'SHARED'],\n",
       "             'CANADIENS': ['CANADIANS', 'ENDOWED'],\n",
       "             'LA': ['THE'],\n",
       "             'CELA': ['THAT', 'THIS'],\n",
       "             'LUI': ['THAT'],\n",
       "             'LE': ['THE'],\n",
       "             'TANT': [','],\n",
       "             'AU': ['THE'],\n",
       "             'DÉFENDRA': ['WILL'],\n",
       "             'COMMUNES': ['OF'],\n",
       "             'ADHÈRENT': ['HOME'],\n",
       "             'AUXQUELLES': ['AT']})"
      ]
     },
     "execution_count": 20,
     "metadata": {},
     "output_type": "execute_result"
    }
   ],
   "source": [
    "P_MT.sen_overlaps_st[125]"
   ]
  },
  {
   "cell_type": "code",
   "execution_count": 21,
   "metadata": {},
   "outputs": [
    {
     "data": {
      "text/plain": [
       "207688"
      ]
     },
     "execution_count": 21,
     "metadata": {},
     "output_type": "execute_result"
    }
   ],
   "source": [
    "len(P_MT.sen_overlaps_st)"
   ]
  },
  {
   "cell_type": "code",
   "execution_count": 22,
   "metadata": {},
   "outputs": [
    {
     "data": {
      "text/plain": [
       "defaultdict(<function phrase_mt.PhraseModel.get_align_overlaps.<locals>.<lambda>()>,\n",
       "            {'SÉNAT': ['SENATE'],\n",
       "             'HANSARD': ['HANSARD'],\n",
       "             ')': [')'],\n",
       "             '(': ['('],\n",
       "             'DÉBATS': ['DEBATES'],\n",
       "             'DU': ['OF', 'THE']})"
      ]
     },
     "execution_count": 22,
     "metadata": {},
     "output_type": "execute_result"
    }
   ],
   "source": [
    "P_MT.sen_overlaps_st[0]"
   ]
  },
  {
   "cell_type": "code",
   "execution_count": 23,
   "metadata": {},
   "outputs": [
    {
     "data": {
      "text/plain": [
       "defaultdict(<function phrase_mt.PhraseModel.get_align_overlaps.<locals>.<lambda>()>,\n",
       "            {'SENATE': ['SÉNAT'],\n",
       "             'HANSARD': ['HANSARD'],\n",
       "             ')': [')'],\n",
       "             '(': ['('],\n",
       "             'DEBATES': ['DÉBATS'],\n",
       "             'OF': ['DU'],\n",
       "             'THE': ['DU']})"
      ]
     },
     "execution_count": 23,
     "metadata": {},
     "output_type": "execute_result"
    }
   ],
   "source": [
    "P_MT.sen_overlaps_ts[0]"
   ]
  },
  {
   "cell_type": "code",
   "execution_count": 24,
   "metadata": {},
   "outputs": [],
   "source": [
    "\n",
    "def save_aligns(st_all_aligns, ts_all_aligns):\n",
    "\n",
    "    ts_s_file = open(\"final_aligns_ts_s.txt\", 'w')\n",
    "    ts_t_file = open(\"final_aligns_ts_t.txt\", 'w')\n",
    "\n",
    "    for sen_table in ts_all_aligns:\n",
    "        for word_s, word_list in sen_table.items():\n",
    "            ts_s_file.write(word_s + ' ')\n",
    "            ts_t_file.write(' '.join(word_list) + ' ') if word_list != None else 'None '\n",
    "        ts_s_file.write('\\n')\n",
    "        ts_t_file.write('\\n')\n",
    "\n",
    "\n",
    "    st_s_file = open(\"final_aligns_st_s.txt\", 'w')\n",
    "    st_t_file = open(\"final_aligns_st_t.txt\", 'w')\n",
    "\n",
    "    for sen_table in st_all_aligns:\n",
    "        for word_s, word_list in sen_table.items():\n",
    "            st_s_file.write(word_s + ' ')\n",
    "            st_t_file.write(' '.join(word_list) + ' ') if word_list != None else 'None '\n",
    "        st_s_file.write('\\n')\n",
    "        st_t_file.write('\\n')\n",
    "\n"
   ]
  },
  {
   "cell_type": "code",
   "execution_count": 25,
   "metadata": {},
   "outputs": [],
   "source": [
    "save_aligns(P_MT.sen_overlaps_st, P_MT.sen_overlaps_ts)"
   ]
  },
  {
   "cell_type": "code",
   "execution_count": 26,
   "metadata": {},
   "outputs": [
    {
     "name": "stdout",
     "output_type": "stream",
     "text": [
      "0\n",
      "1000\n",
      "2000\n",
      "3000\n",
      "4000\n",
      "5000\n",
      "6000\n",
      "7000\n",
      "8000\n",
      "9000\n",
      "10000\n",
      "11000\n",
      "12000\n",
      "13000\n",
      "14000\n",
      "15000\n",
      "16000\n",
      "17000\n",
      "18000\n",
      "19000\n",
      "20000\n",
      "21000\n",
      "22000\n",
      "23000\n",
      "24000\n",
      "25000\n",
      "26000\n",
      "27000\n",
      "28000\n",
      "29000\n",
      "30000\n",
      "31000\n",
      "32000\n",
      "33000\n",
      "34000\n",
      "35000\n",
      "36000\n",
      "37000\n",
      "38000\n",
      "39000\n",
      "40000\n",
      "41000\n",
      "42000\n",
      "43000\n",
      "44000\n",
      "45000\n",
      "46000\n",
      "47000\n",
      "48000\n",
      "49000\n",
      "50000\n",
      "51000\n",
      "52000\n",
      "53000\n",
      "54000\n",
      "55000\n",
      "56000\n",
      "57000\n",
      "58000\n",
      "59000\n",
      "60000\n",
      "61000\n",
      "62000\n",
      "63000\n",
      "64000\n",
      "65000\n",
      "66000\n",
      "67000\n",
      "68000\n",
      "69000\n",
      "70000\n",
      "71000\n",
      "72000\n",
      "73000\n",
      "74000\n",
      "75000\n",
      "76000\n",
      "77000\n",
      "78000\n",
      "79000\n",
      "80000\n",
      "81000\n",
      "82000\n",
      "83000\n",
      "84000\n",
      "85000\n",
      "86000\n",
      "87000\n",
      "88000\n",
      "89000\n",
      "90000\n",
      "91000\n",
      "92000\n",
      "93000\n",
      "94000\n",
      "95000\n",
      "96000\n",
      "97000\n",
      "98000\n",
      "99000\n",
      "100000\n",
      "101000\n",
      "102000\n",
      "103000\n",
      "104000\n",
      "105000\n",
      "106000\n",
      "107000\n",
      "108000\n",
      "109000\n",
      "110000\n",
      "111000\n",
      "112000\n",
      "113000\n",
      "114000\n",
      "115000\n",
      "116000\n",
      "117000\n",
      "118000\n",
      "119000\n",
      "120000\n",
      "121000\n",
      "122000\n",
      "123000\n",
      "124000\n",
      "125000\n",
      "126000\n",
      "127000\n",
      "128000\n",
      "129000\n",
      "130000\n",
      "131000\n",
      "132000\n",
      "133000\n",
      "134000\n",
      "135000\n",
      "136000\n",
      "137000\n",
      "138000\n",
      "139000\n",
      "140000\n",
      "141000\n",
      "142000\n",
      "143000\n",
      "144000\n",
      "145000\n",
      "146000\n",
      "147000\n",
      "148000\n",
      "149000\n",
      "150000\n",
      "151000\n",
      "152000\n",
      "153000\n",
      "154000\n",
      "155000\n",
      "156000\n",
      "157000\n",
      "158000\n",
      "159000\n",
      "160000\n",
      "161000\n",
      "162000\n",
      "163000\n",
      "164000\n",
      "165000\n",
      "166000\n",
      "167000\n",
      "168000\n",
      "169000\n",
      "170000\n",
      "171000\n",
      "172000\n",
      "173000\n",
      "174000\n",
      "175000\n",
      "176000\n",
      "177000\n",
      "178000\n",
      "179000\n",
      "180000\n",
      "181000\n",
      "182000\n",
      "183000\n",
      "184000\n",
      "185000\n",
      "186000\n",
      "187000\n",
      "188000\n",
      "189000\n",
      "190000\n",
      "191000\n",
      "192000\n",
      "193000\n",
      "194000\n",
      "195000\n",
      "196000\n",
      "197000\n",
      "198000\n",
      "199000\n",
      "200000\n",
      "201000\n",
      "202000\n",
      "203000\n",
      "204000\n",
      "205000\n",
      "206000\n",
      "207000\n"
     ]
    }
   ],
   "source": [
    "phrase_lex = P_MT.get_phrase_lex()\n"
   ]
  },
  {
   "cell_type": "code",
   "execution_count": 28,
   "metadata": {},
   "outputs": [],
   "source": [
    "P_MT.phrase_lex_to_probs()\n"
   ]
  },
  {
   "cell_type": "code",
   "execution_count": 95,
   "metadata": {},
   "outputs": [
    {
     "data": {
      "text/plain": [
       "defaultdict(<function phrase_mt.PhraseModel.phrase_lex_to_probs.<locals>.<lambda>.<locals>.<lambda>()>,\n",
       "            {('REPORT',): -1.845826690498331,\n",
       "             ('TENTH',): -0.5465437063680699,\n",
       "             ('OF',): -1.55814461804655})"
      ]
     },
     "execution_count": 95,
     "metadata": {},
     "output_type": "execute_result"
    }
   ],
   "source": [
    "P_MT.phrase_lex[('DIXIÈME',)] "
   ]
  },
  {
   "cell_type": "code",
   "execution_count": 31,
   "metadata": {},
   "outputs": [],
   "source": [
    "P_MT.build_trigram_model()\n"
   ]
  },
  {
   "cell_type": "code",
   "execution_count": 149,
   "metadata": {
    "scrolled": true
   },
   "outputs": [
    {
     "data": {
      "text/plain": [
       "[(['I',\n",
       "   'UNDERSTAND',\n",
       "   'THAT',\n",
       "   'THE',\n",
       "   'PRACTICE',\n",
       "   'WANTS',\n",
       "   'WHEN',\n",
       "   'HIS',\n",
       "   'EXCELLENCY',\n",
       "   'GOVERNOR',\n",
       "   'GENERAL',\n",
       "   'JUST',\n",
       "   'TO',\n",
       "   'THE',\n",
       "   'SENATE',\n",
       "   'TO',\n",
       "   'GIVE',\n",
       "   'ASSENT',\n",
       "   'ROYAL',\n",
       "   ',',\n",
       "   'THE',\n",
       "   'PRIME',\n",
       "   'MINISTER',\n",
       "   'BE',\n",
       "   'PRESENT',\n",
       "   '.'],\n",
       "  -1467.3620565460023),\n",
       " (['I',\n",
       "   'UNDERSTAND',\n",
       "   'THAT',\n",
       "   'THE',\n",
       "   'PRACTICE',\n",
       "   'WANTS',\n",
       "   'WHEN',\n",
       "   'HIS',\n",
       "   'EXCELLENCY',\n",
       "   'GOVERNOR',\n",
       "   'GENERAL',\n",
       "   'JUST',\n",
       "   'TO',\n",
       "   'THE',\n",
       "   'SENATE',\n",
       "   'TO',\n",
       "   'GIVE',\n",
       "   'ASSENT',\n",
       "   'ROYAL',\n",
       "   ',',\n",
       "   'THE',\n",
       "   'PRIME',\n",
       "   'MINISTER',\n",
       "   'BE',\n",
       "   'PRESENT',\n",
       "   '.'],\n",
       "  -1438.1370709811415)]"
      ]
     },
     "execution_count": 149,
     "metadata": {},
     "output_type": "execute_result"
    }
   ],
   "source": [
    "decode_sentence(P_MT, 'JE CROIS SAVOIR QUE LA PRATIQUE VEUT QUE LORSQUE SON EXCELLENCE LA GOUVERNEURE GÉNÉRALE VIENT AU SÉNAT POUR DONNER LA SANCTION ROYALE , LE PREMIER MINISTRE SOIT PRÉSENT .'.upper())"
   ]
  },
  {
   "cell_type": "code",
   "execution_count": 189,
   "metadata": {},
   "outputs": [],
   "source": [
    "ref = \"IT IS MY UNDERSTANDING THAT IT IS THE PRACTICE OF THIS PLACE THAT , WHEN HER EXCELLENCY THE GOVERNOR GENERAL COMES TO THE SENATE FOR ROYAL ASSENT , THE FIRST MINISTER , THE PRIME MINISTER , WILL BE PRESENT .\".lower()"
   ]
  },
  {
   "cell_type": "code",
   "execution_count": 190,
   "metadata": {},
   "outputs": [],
   "source": [
    "can =  \"I UNDERSTAND THAT THE PRACTICE WANTS WHEN HIS EXCELLENCY GOVERNOR GENERAL JUST TO THE SENATE TO GIVE ASSENT ROYAL THE PRIME MINISTER BE PRESENT\".lower()"
   ]
  },
  {
   "cell_type": "code",
   "execution_count": 191,
   "metadata": {},
   "outputs": [
    {
     "data": {
      "text/plain": [
       "0.531366506973441"
      ]
     },
     "execution_count": 191,
     "metadata": {},
     "output_type": "execute_result"
    }
   ],
   "source": [
    "nltk.translate.bleu_score.sentence_bleu([ref], can)"
   ]
  }
 ],
 "metadata": {
  "kernelspec": {
   "display_name": "Python 3",
   "language": "python",
   "name": "python3"
  },
  "language_info": {
   "codemirror_mode": {
    "name": "ipython",
    "version": 3
   },
   "file_extension": ".py",
   "mimetype": "text/x-python",
   "name": "python",
   "nbconvert_exporter": "python",
   "pygments_lexer": "ipython3",
   "version": "3.6.0"
  }
 },
 "nbformat": 4,
 "nbformat_minor": 2
}
